{
 "cells": [
  {
   "cell_type": "markdown",
   "metadata": {},
   "source": []
  },
  {
   "cell_type": "markdown",
   "metadata": {},
   "source": [
    "# Моделирование случайных величин и проверка гипотез о нормальном распределении\n",
    "> ## Анализ нормального распределения"
   ]
  },
  {
   "cell_type": "code",
   "execution_count": null,
   "metadata": {},
   "outputs": [],
   "source": [
    "import numpy as np\n",
    "import matplotlib.pyplot as plt\n",
    "from scipy.stats import norm\n",
    "from scipy.integrate import quad\n",
    "from tabulate import tabulate"
   ]
  },
  {
   "cell_type": "markdown",
   "metadata": {},
   "source": [
    "> ### Параметры нормального распределения"
   ]
  },
  {
   "cell_type": "code",
   "execution_count": null,
   "metadata": {},
   "outputs": [],
   "source": [
    "mu = 0      # Математическое ожидание\n",
    "sigma = 1   # Среднеквадратическое отклонение\n",
    "size = 1000 # Размер выборки"
   ]
  },
  {
   "cell_type": "markdown",
   "metadata": {},
   "source": [
    "> ### Генерация выборки"
   ]
  },
  {
   "cell_type": "code",
   "execution_count": null,
   "metadata": {},
   "outputs": [],
   "source": [
    "np.random.seed(42)\n",
    "sample = np.sort(np.random.normal(mu, sigma, size))"
   ]
  },
  {
   "cell_type": "markdown",
   "metadata": {},
   "source": [
    "> ### Теоретические характеристики"
   ]
  },
  {
   "cell_type": "code",
   "execution_count": null,
   "metadata": {},
   "outputs": [],
   "source": [
    "theoretical_mean = mu\n",
    "theoretical_var = sigma**2"
   ]
  },
  {
   "cell_type": "markdown",
   "metadata": {},
   "source": [
    "> ### Выборочные характеристики"
   ]
  },
  {
   "cell_type": "code",
   "execution_count": null,
   "metadata": {},
   "outputs": [],
   "source": [
    "sample_mean = np.mean(sample)\n",
    "sample_var = np.var(sample, ddof=0)  # Дисперсия с ddof=0 (N в знаменателе)\n",
    "sample_var_unbiased = np.var(sample, ddof=1)  # Несмещенная дисперсия (N-1 в знаменателе)\n",
    "sample_range = np.max(sample) - np.min(sample)\n",
    "sample_median = np.median(sample)"
   ]
  },
  {
   "cell_type": "markdown",
   "metadata": {},
   "source": [
    "> ### Вывод характеристик"
   ]
  },
  {
   "cell_type": "code",
   "execution_count": null,
   "metadata": {},
   "outputs": [],
   "source": [
    "print(\"Теоретические характеристики:\")\n",
    "print(f\"Математическое ожидание: {theoretical_mean:.4f}\")\n",
    "print(f\"Дисперсия: {theoretical_var:.4f}\\n\")\n",
    "\n",
    "print(\"Выборочные характеристики:\")\n",
    "print(f\"Выборочное среднее: {sample_mean:.4f}\")\n",
    "print(f\"Выборочная дисперсия (смещенная): {sample_var:.4f}\")\n",
    "print(f\"Выборочная дисперсия (несмещенная): {sample_var_unbiased:.4f}\")\n",
    "print(f\"Размах выборки: {sample_range:.4f}\")\n",
    "print(f\"Выборочная медиана: {sample_median:.4f}\")"
   ]
  },
  {
   "cell_type": "markdown",
   "metadata": {},
   "source": [
    "> ## 2. Графики теоретической и выборочной функций распределения"
   ]
  },
  {
   "cell_type": "markdown",
   "metadata": {},
   "source": [
    "> ### Теоретическая функция распределения"
   ]
  },
  {
   "cell_type": "code",
   "execution_count": null,
   "metadata": {},
   "outputs": [],
   "source": [
    "x = np.linspace(mu - 4*sigma, mu + 4*sigma, 1000)\n",
    "theoretical_cdf = norm.cdf(x, mu, sigma)"
   ]
  },
  {
   "cell_type": "markdown",
   "metadata": {},
   "source": [
    "> ### Эмпирическая функция распределения"
   ]
  },
  {
   "cell_type": "code",
   "execution_count": null,
   "metadata": {},
   "outputs": [],
   "source": [
    "def empirical_cdf(x, sample):\n",
    "    return np.searchsorted(sample, x, side='right') / len(sample)\n",
    "\n",
    "emp_cdf = np.vectorize(empirical_cdf, excluded=['sample'])(x, sample=sample)"
   ]
  },
  {
   "cell_type": "markdown",
   "metadata": {},
   "source": [
    "> ### Построение графиков"
   ]
  },
  {
   "cell_type": "code",
   "execution_count": null,
   "metadata": {},
   "outputs": [],
   "source": [
    "plt.figure(figsize=(10, 6))\n",
    "plt.plot(x, theoretical_cdf, 'b-', label='Теоретическая CDF', linewidth=2)\n",
    "plt.step(x, emp_cdf, 'r--', label='Выборочная CDF', linewidth=1, where='post')\n",
    "plt.title('Теоретическая и выборочная функции распределения')\n",
    "plt.xlabel('x')\n",
    "plt.ylabel('F(x)')\n",
    "plt.legend()\n",
    "plt.grid(True)\n",
    "plt.show()"
   ]
  },
  {
   "cell_type": "markdown",
   "metadata": {},
   "source": [
    "> ### Расхождение(Интегральная квадратичная разность)"
   ]
  },
  {
   "cell_type": "code",
   "execution_count": null,
   "metadata": {},
   "outputs": [],
   "source": [
    "def divergence_measure(sample, theoretical_cdf_func, a, b):\n",
    "    sample_sorted = np.sort(sample)\n",
    "    ecdf = np.arange(1, len(sample_sorted)+1) / len(sample_sorted)\n",
    "    tcdf = theoretical_cdf_func(sample_sorted)\n",
    "    \n",
    "    # Вычисляем интеграл как сумму на интервалах между точками выборки\n",
    "    squared_diff = (ecdf - tcdf)**2\n",
    "    integral = np.sum(squared_diff[:-1] * np.diff(sample_sorted))\n",
    "    \n",
    "    # Добавляем хвосты за пределами выборки\n",
    "    integral += quad(lambda x: theoretical_cdf_func(x)**2, a, sample_sorted[0])[0]\n",
    "    integral += quad(lambda x: (1 - theoretical_cdf_func(x))**2, sample_sorted[-1], b)[0]\n",
    "    \n",
    "    return integral\n",
    "\n",
    "divergence = divergence_measure(sample, lambda x: norm.cdf(x, mu, sigma), mu-4*sigma, mu+4*sigma)\n",
    "print(f\"\\nМера расхождения между теоретической и выборочной CDF: {divergence:.6f}\")"
   ]
  },
  {
   "cell_type": "markdown",
   "metadata": {},
   "source": [
    "> ## 3. Построение гистограммы и сравнение с теоретической плотностью"
   ]
  },
  {
   "cell_type": "code",
   "execution_count": null,
   "metadata": {},
   "outputs": [],
   "source": [
    "\n",
    "\n",
    "plt.figure(figsize=(10, 6))\n",
    "n, bins, patches = plt.hist(sample, bins=20, density=True, alpha=0.6, color='g', label='Нормированная гистограмма')\n",
    "\n",
    "\n",
    "x_pdf = np.linspace(mu - 4*sigma, mu + 4*sigma, 1000)\n",
    "theoretical_pdf = norm.pdf(x_pdf, mu, sigma)\n",
    "plt.plot(x_pdf, theoretical_pdf, 'r-', linewidth=2, label='Теоретическая PDF')\n",
    "\n",
    "\n",
    "bin_centers = 0.5 * (bins[:-1] + bins[1:])\n",
    "theoretical_pdf_values = norm.pdf(bin_centers, mu, sigma)\n",
    "\n",
    "\n",
    "max_diff = np.max(np.abs(n - theoretical_pdf_values))\n",
    "print(f\"\\nМаксимум абсолютной разности между гистограммой и теоретической PDF: {max_diff:.6f}\")\n",
    "\n",
    "plt.title('Гистограмма выборки и теоретическая плотность распределения')\n",
    "plt.xlabel('x')\n",
    "plt.ylabel('Плотность')\n",
    "plt.legend()\n",
    "plt.grid(True)\n",
    "plt.show()"
   ]
  },
  {
   "cell_type": "markdown",
   "metadata": {},
   "source": [
    "> ## Таблица результатов"
   ]
  },
  {
   "cell_type": "code",
   "execution_count": null,
   "metadata": {},
   "outputs": [],
   "source": [
    "table = []\n",
    "for i in range(len(bin_centers)):\n",
    "    table.append([\n",
    "        f\"{bins[i]:.2f} - {bins[i+1]:.2f}\",\n",
    "        f\"{bin_centers[i]:.4f}\",\n",
    "        f\"{n[i]:.4f}\",\n",
    "        f\"{theoretical_pdf_values[i]:.4f}\",\n",
    "        f\"{np.abs(n[i] - theoretical_pdf_values[i]):.4f}\"\n",
    "    ])\n"
   ]
  },
  {
   "cell_type": "code",
   "execution_count": null,
   "metadata": {},
   "outputs": [],
   "source": [
    "headers = [\"Интервал\", \"Середина интервала\", \"Высота гистограммы\", \n",
    "           \"Теоретическая плотность\", \"Абсолютная разность\"]\n",
    "print(\"\\nТаблица сравнения гистограммы с теоретической плотностью:\")\n",
    "print(tabulate(table, headers=headers))"
   ]
  },
  {
   "cell_type": "code",
   "execution_count": null,
   "metadata": {},
   "outputs": [],
   "source": [
    "print(\"\\nВыводы:\")\n",
    "print(\"1. Выборочные характеристики близки к теоретическим для нормального распределения.\")\n",
    "print(\"2. Графики CDF показывают хорошее соответствие теоретического и эмпирического распределений.\")\n",
    "print(f\"3. Мера расхождения между CDF составляет {divergence:.6f}.\")\n",
    "print(f\"4. Максимальное расхождение между гистограммой и теоретической PDF: {max_diff:.6f}.\")"
   ]
  }
 ],
 "metadata": {
  "kernelspec": {
   "display_name": "venv",
   "language": "python",
   "name": "python3"
  },
  "language_info": {
   "codemirror_mode": {
    "name": "ipython",
    "version": 3
   },
   "file_extension": ".py",
   "mimetype": "text/x-python",
   "name": "python",
   "nbconvert_exporter": "python",
   "pygments_lexer": "ipython3",
   "version": "3.12.2"
  }
 },
 "nbformat": 4,
 "nbformat_minor": 2
}
